{
 "cells": [
  {
   "cell_type": "markdown",
   "metadata": {},
   "source": [
    "# Probelm Set 4 - Dynasties\n",
    "\n",
    "The story of the problem goes: There are identical agents with infinite lifes maximizing (the infinite stream) of utility by chosing consumption, leisure (labor) and capital holdings. In period $T = 100$ there is a productivity shock and the economy transitions subsequently to the new steady state. Transition is assumed to be reached after 100 periods. We are interested in a) the new steady-state of the economy and b) the transition path.\n",
    "\n",
    "Setting up the Lagrangian of this problem and deriving the 4 FOC yields optimality conditions that need to hold at all times in all states. Using variational analysis (or whatever) we can derive the steady-state conditions. My intuitivion then is as follows:\n",
    "- First the initial st-st (before the productivity shock - point A) and the st-st after the shock (point B) pin down the levels: The economy has somehow to take itself from point A to point B.\n",
    "- The \"dynamic\" laws, how the economy may move from A to B is characterised by the FOCs.\n",
    "- Impose that after 100 periods the new st-st is reached -> 4x100 equations in 4x100 unknowns.\n",
    "- Use `root` in order to solve for the dynamic transition path..."
   ]
  },
  {
   "cell_type": "markdown",
   "metadata": {},
   "source": [
    "#### Exercise\n",
    "\n",
    "Solve for and plot the transition paths for c, l, k, and $\\lambda$. Assume that the economy will reach the new steady state in a finite time, say 100 periods. Impose this condition in the terminal period by assuming that $l_{T+100} = l_{T+99}, c_{T+100} = c_{T+99}$ and $\\lambda_{T+100} = \\lambda_{T+99}$. The FOCs give us a set of 4x100 equations in 4x100 unknowns that describe the optimal path of consumption, capital, and labor supply. Solve the first order conditions using a nonlinear equation solver such as `root`."
   ]
  },
  {
   "cell_type": "markdown",
   "metadata": {},
   "source": [
    "#### Class for Steady-States"
   ]
  },
  {
   "cell_type": "code",
   "execution_count": 2,
   "metadata": {},
   "outputs": [],
   "source": [
    "# First we define a class that implements the steady-states\n",
    "class dynasties_st_st:\n",
    "    \n",
    "    def __init__(self,\n",
    "                 δ = 0.1, \n",
    "                 θ = 1/3, \n",
    "                 A = 1,\n",
    "                 k_y_ratio = 3,\n",
    "                 k_long = 3, \n",
    "                 l_long = 1/3):\n",
    "        self.δ, self.θ, self.A, self.k_y_ratio, self.k_long, self.l_long = δ, θ, A, k_y_ratio, k_long, l_long\n",
    "        \n",
    "    def alpha(self):\n",
    "        \"Calibrate alpha\"\n",
    "        nominator = 1 - self.δ * self.k_long\n",
    "        denominator = ((1 - self.θ)/ self.l_long) - (1 - self.θ) + (1 - self.δ * self.k_long)\n",
    "        return nominator / denominator\n",
    "    \n",
    "    def beta(self):\n",
    "        \"Calibrate beta\"\n",
    "        return 1 / (1 + self.θ / self.k_y_ratio - self.δ)\n",
    "    \n",
    "    def constants(self):\n",
    "        \"Some important constants for easier noation\"\n",
    "        G = ((1 - self.beta() * (1 - self.δ)) / (self.beta() * self.θ * (self.A**(1 - self.θ))))**(1 / (1 - self.θ))\n",
    "        J = (1 - self.beta() * (1 - self.δ)) / (self.beta() * self.θ) - self.δ\n",
    "        return {'G': G, 'J' : J}\n",
    "    \n",
    "    def steady_states(self):\n",
    "        \"Define steady-states\"\n",
    "        # Define parameters\n",
    "        α = self.alpha()\n",
    "        G = self.constants()['G']\n",
    "        J = self.constants()['J']\n",
    "        # capital\n",
    "        k_st_st = ((1 - self.θ) * α * (J + self.δ)) / ((J * (1 - α) + (J + self.δ) * (1 - self.θ) * α) * G)\n",
    "        # consumption\n",
    "        c_st_st = J * k_st_st\n",
    "        # labour\n",
    "        l_st_st = G * k_st_st\n",
    "        # shadow price\n",
    "        λ_st_st =  α / c_st_st\n",
    "        # output\n",
    "        y_st_st = (self.A**(1 - self.θ)) * (k_st_st**(self.θ)) * (l_st_st**(1-self.θ))\n",
    "        return {'k' : k_st_st, 'c' : c_st_st, 'l' : l_st_st, 'λ' : λ_st_st, 'y' : y_st_st}"
   ]
  },
  {
   "cell_type": "markdown",
   "metadata": {},
   "source": [
    "#### Old Steady-States"
   ]
  },
  {
   "cell_type": "code",
   "execution_count": 3,
   "metadata": {},
   "outputs": [],
   "source": [
    "dyn_old = dynasties_st_st()\n",
    "st_st_old = dyn_old.steady_states()"
   ]
  },
  {
   "cell_type": "markdown",
   "metadata": {},
   "source": [
    "#### New Steady-States\n",
    "(not needed in actual computations)"
   ]
  },
  {
   "cell_type": "code",
   "execution_count": 4,
   "metadata": {},
   "outputs": [],
   "source": [
    "# Update technology\n",
    "dyn_new = dynasties_st_st(A = 1.1)\n",
    "st_st_new = dyn_new.steady_states()"
   ]
  },
  {
   "cell_type": "markdown",
   "metadata": {},
   "source": [
    "#### Vector of Initial Guesses\n",
    "With help of steady-states"
   ]
  },
  {
   "cell_type": "code",
   "execution_count": 5,
   "metadata": {},
   "outputs": [],
   "source": [
    "import numpy as np\n",
    "\n",
    "α, β = dyn_old.alpha(), dyn_old.beta()\n",
    "c, l, k, λ = st_st_old['c'], st_st_old['l'], st_st_old['k'], st_st_old['λ']\n",
    "\n",
    "# Define vector of guesses\n",
    "c_guess = np.repeat(c, 100)\n",
    "l_guess = np.repeat(l, 100)\n",
    "k_guess = np.repeat(k, 100)\n",
    "\n",
    "λ_guess = []\n",
    "for i in range(100):\n",
    "    λ_guess.append(λ * β**(i))\n",
    "λ_guess = np.array(λ_guess)\n",
    "\n",
    "# Stack in vector\n",
    "guess = np.concatenate((c_guess, l_guess, k_guess, λ_guess))"
   ]
  },
  {
   "cell_type": "markdown",
   "metadata": {},
   "source": [
    "#### Define Transition Function"
   ]
  },
  {
   "cell_type": "code",
   "execution_count": 6,
   "metadata": {},
   "outputs": [],
   "source": [
    "import numpy as np\n",
    "\n",
    "# Next, we will spell out the four transition equations (compare with matlab script and L12)\n",
    "# As k is a state variable it is a parameter of the problem! It is predetermined!\n",
    "# Importantly, we will define the FOC as implicit functions.\n",
    "def transition(guess, α, β, δ, θ, A, k_st_st, n_guess):\n",
    "    \"\"\"\n",
    "    Defines the four transition equations (FOC) and evaluates them given the initial guess.\n",
    "    guess has to be provided as a vector (not matrix)!\n",
    "    \"\"\"\n",
    "    \n",
    "    T = int(len(guess) / n_guess)\n",
    "    \n",
    "    # Unpack guess\n",
    "    c_lag = guess[0:T]\n",
    "    l_lag = guess[T:2*T]\n",
    "    k_lead = guess[2*T:3*T]\n",
    "    λ_lag = guess[3*T:4*T]\n",
    "        \n",
    "    # Define some variables, such as lag and lead vectors (also impose that transition is completed after 100 periods!)\n",
    "    k_lag = np.concatenate(([k_st_st], k_lead[0:(T-1)]))\n",
    "    l_lead = np.concatenate((l_lag[1:T], [l_lag[-1]]))\n",
    "    λ_lead = np.concatenate((λ_lag[1:T], [β * λ_lag[-1]]))\n",
    "    β_vec = []\n",
    "    for i in range(T):\n",
    "        β_vec.append(β**(i))\n",
    "    β_vec = np.array(β_vec)\n",
    "    \n",
    "    # First order (= optimality, transversality) conditions\n",
    "    foc1 = β_vec * α / c_lag - λ_lag\n",
    "    foc2 = β_vec * (1 - α) / (1 - l_lag) - λ_lag * (1 - θ) * (A**(1 - θ)) * (k_lag**(θ)) * (l_lag**(-θ))\n",
    "    foc3 = λ_lead * (θ * (A**(1 - θ)) * (k_lead**(θ - 1)) * (l_lead**(1 - θ)) + 1 - δ) - λ_lag\n",
    "    foc4 = c_lag + k_lead - (A**(1 - θ)) * (k_lag**(θ)) * (l_lag**(1 - θ)) - (1 - δ) * k_lag\n",
    "    \n",
    "    # Combine\n",
    "    optimality_conditions = np.concatenate((foc1, foc2, foc3, foc4))\n",
    "    \n",
    "    return optimality_conditions"
   ]
  },
  {
   "cell_type": "markdown",
   "metadata": {},
   "source": [
    "#### Define Parameters"
   ]
  },
  {
   "cell_type": "code",
   "execution_count": 7,
   "metadata": {},
   "outputs": [],
   "source": [
    "# Parameters: α, β, δ, θ, A, k_st_st, n_guess\n",
    "δ, θ, A, n_guess = dyn_new.δ, dyn_new.θ, dyn_new.A, 4\n",
    "params = (α, β, δ, θ, A, k, n_guess)"
   ]
  },
  {
   "cell_type": "markdown",
   "metadata": {},
   "source": [
    "#### Solve"
   ]
  },
  {
   "cell_type": "code",
   "execution_count": 8,
   "metadata": {},
   "outputs": [
    {
     "data": {
      "text/plain": [
       "True"
      ]
     },
     "execution_count": 8,
     "metadata": {},
     "output_type": "execute_result"
    }
   ],
   "source": [
    "from scipy.optimize import root, fsolve\n",
    "\n",
    "# Apply root: roots are returned in method x\n",
    "roots = root(fun = transition, x0 = guess, args = params)\n",
    "dynamics = roots.x\n",
    "roots.success"
   ]
  },
  {
   "cell_type": "markdown",
   "metadata": {},
   "source": [
    "#### Unpack and Plot"
   ]
  },
  {
   "cell_type": "code",
   "execution_count": 9,
   "metadata": {},
   "outputs": [],
   "source": [
    "# Unpack\n",
    "T = int(len(dynamics) / 4)\n",
    "consumption = dynamics[0:T]\n",
    "labour = dynamics[(T):(2*T)]\n",
    "labour = np.concatenate(([st_st_old['l']], labour))\n",
    "capital = dynamics[(2*T):(3*T)]\n",
    "capital = np.concatenate(([k], capital[0:(T-1)]))\n",
    "shadow_price = dynamics[(3*T):(4*T)]"
   ]
  },
  {
   "cell_type": "code",
   "execution_count": 10,
   "metadata": {},
   "outputs": [
    {
     "data": {
      "image/png": "[encoded data removed]",
      "text/plain": [
       "<Figure size 720x864 with 4 Axes>"
      ]
     },
     "metadata": {
      "needs_background": "light"
     },
     "output_type": "display_data"
    }
   ],
   "source": [
    "import matplotlib.pyplot as plt\n",
    "%matplotlib inline\n",
    "\n",
    "num_rows, num_cols = 4, 1\n",
    "fig, axes = plt.subplots(num_rows, num_cols, figsize=(10, 12))\n",
    "\n",
    "axes[0].plot(consumption)\n",
    "axes[0].set(title = 'consumption')\n",
    "axes[1].plot(labour)\n",
    "axes[1].set(title = 'labour')\n",
    "axes[2].plot(capital)\n",
    "axes[2].set(title = 'capital')\n",
    "axes[3].plot(shadow_price)\n",
    "axes[3].set(title = 'shadow_price')\n",
    "plt.show()"
   ]
  },
  {
   "cell_type": "code",
   "execution_count": 11,
   "metadata": {},
   "outputs": [
    {
     "data": {
      "text/plain": [
       "{'k': 1.732050807568878,\n",
       " 'c': 0.4041451884327379,\n",
       " 'l': 0.3333333333333333,\n",
       " 'λ': 0.8518282660174807,\n",
       " 'y': 0.5773502691896258}"
      ]
     },
     "execution_count": 11,
     "metadata": {},
     "output_type": "execute_result"
    }
   ],
   "source": [
    "st_st_old"
   ]
  },
  {
   "cell_type": "code",
   "execution_count": 12,
   "metadata": {},
   "outputs": [
    {
     "data": {
      "text/plain": [
       "{'k': 1.9052558883257658,\n",
       " 'c': 0.44455970727601163,\n",
       " 'l': 0.33333333333333326,\n",
       " 'λ': 0.7743893327431645,\n",
       " 'y': 0.6350852961085882}"
      ]
     },
     "execution_count": 12,
     "metadata": {},
     "output_type": "execute_result"
    }
   ],
   "source": [
    "st_st_new"
   ]
  },
  {
   "cell_type": "code",
   "execution_count": null,
   "metadata": {},
   "outputs": [],
   "source": []
  },
  {
   "cell_type": "code",
   "execution_count": null,
   "metadata": {},
   "outputs": [],
   "source": []
  },
  {
   "cell_type": "code",
   "execution_count": null,
   "metadata": {},
   "outputs": [],
   "source": []
  }
 ],
 "metadata": {
  "kernelspec": {
   "display_name": "Python 3",
   "language": "python",
   "name": "python3"
  },
  "language_info": {
   "codemirror_mode": {
    "name": "ipython",
    "version": 3
   },
   "file_extension": ".py",
   "mimetype": "text/x-python",
   "name": "python",
   "nbconvert_exporter": "python",
   "pygments_lexer": "ipython3",
   "version": "3.7.6"
  }
 },
 "nbformat": 4,
 "nbformat_minor": 4
}
